{
 "cells": [
  {
   "cell_type": "code",
   "execution_count": 33,
   "id": "initial_id",
   "metadata": {
    "collapsed": true,
    "ExecuteTime": {
     "end_time": "2025-05-23T18:31:22.114456Z",
     "start_time": "2025-05-23T18:31:22.111422Z"
    }
   },
   "outputs": [],
   "source": [
    "import torchhd as hd"
   ]
  },
  {
   "cell_type": "code",
   "outputs": [],
   "source": [
    "d = 10_000"
   ],
   "metadata": {
    "collapsed": false,
    "ExecuteTime": {
     "end_time": "2025-05-23T18:31:22.118952Z",
     "start_time": "2025-05-23T18:31:22.116424Z"
    }
   },
   "id": "4c4b4ca43f32dcf0",
   "execution_count": 34
  },
  {
   "cell_type": "code",
   "outputs": [],
   "source": [
    "color, type = hd.BSCTensor.random(2, d)  # Create two new concepts: color and type"
   ],
   "metadata": {
    "collapsed": false,
    "ExecuteTime": {
     "end_time": "2025-05-23T18:31:22.122365Z",
     "start_time": "2025-05-23T18:31:22.120174Z"
    }
   },
   "id": "f947a7b79f1a116c",
   "execution_count": 35
  },
  {
   "cell_type": "code",
   "outputs": [],
   "source": [
    "red, blue, green = hd.BSCTensor.random(3, d)  # Create three new concepts: red, blue and green\n",
    "car, ball, doll = hd.BSCTensor.random(3, d)  # Create three new concepts: car, ball and doll"
   ],
   "metadata": {
    "collapsed": false,
    "ExecuteTime": {
     "end_time": "2025-05-23T18:31:22.125868Z",
     "start_time": "2025-05-23T18:31:22.123054Z"
    }
   },
   "id": "43a00a1048b96050",
   "execution_count": 36
  },
  {
   "cell_type": "code",
   "outputs": [],
   "source": [
    "color_of_toy = hd.bind(color, red)  # color is red\n",
    "type_of_toy = hd.bind(type, car)  # type is car\n",
    "toy = hd.bundle(color_of_toy, type_of_toy)  #  toy is a red car "
   ],
   "metadata": {
    "collapsed": false,
    "ExecuteTime": {
     "end_time": "2025-05-23T18:31:22.129849Z",
     "start_time": "2025-05-23T18:31:22.127278Z"
    }
   },
   "id": "9b98f9318fd1d52b",
   "execution_count": 37
  },
  {
   "cell_type": "code",
   "outputs": [
    {
     "name": "stdout",
     "output_type": "stream",
     "text": [
      "red: BSCTensor(0.4988)\n",
      "blue: BSCTensor(0.0082)\n",
      "green: BSCTensor(-0.0208)\n",
      "car: BSCTensor(0.4914)\n",
      "ball: BSCTensor(-0.0018)\n",
      "doll: BSCTensor(-0.0012)\n"
     ]
    }
   ],
   "source": [
    "# Let's check if it makes sense\n",
    "retrieved_color = hd.bind(toy, hd.inverse(color))\n",
    "for c_name, c in zip(['red', 'blue', 'green'], [red, blue, green]):\n",
    "    print(f'{c_name}: {hd.cosine_similarity(retrieved_color, c)}')\n",
    "\n",
    "retrieved_type = hd.bind(toy, hd.inverse(type))\n",
    "for t_name, t in zip(['car', 'ball', 'doll'], [car, ball, doll]):\n",
    "    print(f'{t_name}: {hd.cosine_similarity(retrieved_type, t)}')"
   ],
   "metadata": {
    "collapsed": false,
    "ExecuteTime": {
     "end_time": "2025-05-23T18:31:22.135373Z",
     "start_time": "2025-05-23T18:31:22.130606Z"
    }
   },
   "id": "6a7452f57356299a",
   "execution_count": 38
  }
 ],
 "metadata": {
  "kernelspec": {
   "display_name": "Python 3",
   "language": "python",
   "name": "python3"
  },
  "language_info": {
   "codemirror_mode": {
    "name": "ipython",
    "version": 2
   },
   "file_extension": ".py",
   "mimetype": "text/x-python",
   "name": "python",
   "nbconvert_exporter": "python",
   "pygments_lexer": "ipython2",
   "version": "2.7.6"
  }
 },
 "nbformat": 4,
 "nbformat_minor": 5
}
