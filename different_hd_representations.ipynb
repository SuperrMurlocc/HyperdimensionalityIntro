{
 "cells": [
  {
   "cell_type": "code",
   "execution_count": 30,
   "id": "initial_id",
   "metadata": {
    "collapsed": true,
    "ExecuteTime": {
     "end_time": "2025-05-23T20:20:59.981654Z",
     "start_time": "2025-05-23T20:20:59.978936Z"
    }
   },
   "outputs": [],
   "source": [
    "import torchhd as hd"
   ]
  },
  {
   "cell_type": "code",
   "outputs": [],
   "source": [
    "d = 25"
   ],
   "metadata": {
    "collapsed": false,
    "ExecuteTime": {
     "end_time": "2025-05-23T20:20:59.985258Z",
     "start_time": "2025-05-23T20:20:59.983334Z"
    }
   },
   "id": "1d9197ef4807f8b9",
   "execution_count": 31
  },
  {
   "cell_type": "code",
   "outputs": [
    {
     "name": "stdout",
     "output_type": "stream",
     "text": [
      "BSC : BSCTensor([ True, False,  True, False, False, False, False, False,  True, False,\n",
      "           False, False,  True,  True, False, False,  True,  True, False,  True,\n",
      "            True,  True,  True,  True,  True])\n",
      "MAP : MAPTensor([-1., -1., -1.,  1., -1., -1.,  1., -1.,  1., -1.,  1., -1.,  1.,  1.,\n",
      "           -1., -1., -1., -1.,  1.,  1., -1., -1.,  1., -1.,  1.])\n",
      "HRR : HRRTensor([-0.3725, -0.0835,  0.0277,  0.2839,  0.2350, -0.2277,  0.0544,\n",
      "            0.1255, -0.2365, -0.1659, -0.1615,  0.1196,  0.2280, -0.0498,\n",
      "            0.0535,  0.2669,  0.0081,  0.2710,  0.4208,  0.0116, -0.0886,\n",
      "            0.0363,  0.3559,  0.0811, -0.0397])\n",
      "FHRR : FHRRTensor([-0.6744-0.7384j, -0.7923-0.6102j, -0.5759-0.8175j, -0.8316-0.5554j,\n",
      "             0.0042+1.0000j, -0.9784-0.2067j,  0.4953+0.8687j, -0.9894+0.1454j,\n",
      "             0.9373-0.3485j, -0.7586-0.6515j, -0.3697+0.9291j, -0.6182-0.7860j,\n",
      "             0.9999+0.0104j,  0.9900-0.1408j,  0.3011+0.9536j, -0.4367+0.8996j,\n",
      "             0.5347-0.8450j, -0.4744+0.8803j, -0.8734+0.4870j,  0.9482-0.3176j,\n",
      "             0.9674-0.2534j, -0.7936+0.6084j, -0.9998+0.0208j, -0.1068+0.9943j,\n",
      "            -0.0562-0.9984j])\n",
      "BSBC : BSBCTensor([1, 4, 1, 1, 0, 4, 2, 2, 1, 0, 4, 1, 2, 0, 4, 0, 2, 2, 1, 2, 3, 1, 4,\n",
      "            3, 0])\n",
      "VTB : VTBTensor([ 0.2092,  0.0850,  0.0761, -0.1536, -0.1439, -0.2315,  0.2628,\n",
      "           -0.1176,  0.4837, -0.3564,  0.0794, -0.0159,  0.0036,  0.2440,\n",
      "            0.1552, -0.2343, -0.0694,  0.1410, -0.0763, -0.3294, -0.0167,\n",
      "            0.1046, -0.0679,  0.2002,  0.2477])\n",
      "MCR : MCRTensor([0, 4, 1, 3, 2, 4, 0, 0, 2, 2, 1, 1, 2, 4, 4, 1, 4, 0, 2, 3, 3, 4, 3,\n",
      "           0, 4])\n"
     ]
    }
   ],
   "source": [
    "for representation in ['BSC', 'MAP', 'HRR', 'FHRR', 'BSBC', 'VTB', 'MCR']:\n",
    "    if representation in ['BSBC', 'MCR']:\n",
    "        vector = hd.random(1, d, vsa=representation, block_size=5)[0]\n",
    "    else:\n",
    "        vector = hd.random(1, d, vsa=representation)[0]\n",
    "    print(f'{representation} : {vector}')"
   ],
   "metadata": {
    "collapsed": false,
    "ExecuteTime": {
     "end_time": "2025-05-23T20:20:59.991483Z",
     "start_time": "2025-05-23T20:20:59.986573Z"
    }
   },
   "id": "469d373e1dc2f78a",
   "execution_count": 32
  }
 ],
 "metadata": {
  "kernelspec": {
   "display_name": "Python 3",
   "language": "python",
   "name": "python3"
  },
  "language_info": {
   "codemirror_mode": {
    "name": "ipython",
    "version": 2
   },
   "file_extension": ".py",
   "mimetype": "text/x-python",
   "name": "python",
   "nbconvert_exporter": "python",
   "pygments_lexer": "ipython2",
   "version": "2.7.6"
  }
 },
 "nbformat": 4,
 "nbformat_minor": 5
}
