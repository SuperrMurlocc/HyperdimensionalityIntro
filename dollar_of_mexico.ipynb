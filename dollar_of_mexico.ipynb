{
 "cells": [
  {
   "cell_type": "code",
   "execution_count": 176,
   "id": "initial_id",
   "metadata": {
    "collapsed": true,
    "ExecuteTime": {
     "end_time": "2025-05-23T18:14:05.440435Z",
     "start_time": "2025-05-23T18:14:05.429632Z"
    }
   },
   "outputs": [],
   "source": [
    "import torchhd as hd"
   ]
  },
  {
   "cell_type": "code",
   "outputs": [],
   "source": [
    "d = 10_000"
   ],
   "metadata": {
    "collapsed": false,
    "ExecuteTime": {
     "end_time": "2025-05-23T18:14:05.444048Z",
     "start_time": "2025-05-23T18:14:05.442103Z"
    }
   },
   "id": "ba0adad5b647b819",
   "execution_count": 177
  },
  {
   "cell_type": "code",
   "outputs": [],
   "source": [
    "country, currency = hd.BSCTensor.random(2, d)  # Create two new concepts: country and currency"
   ],
   "metadata": {
    "collapsed": false,
    "ExecuteTime": {
     "end_time": "2025-05-23T18:14:05.448151Z",
     "start_time": "2025-05-23T18:14:05.444757Z"
    }
   },
   "id": "6c2fd64765b92b8a",
   "execution_count": 178
  },
  {
   "cell_type": "code",
   "outputs": [],
   "source": [
    "USA, Mexico = hd.BSCTensor.random(2, d)  # Create two new concepts: USA and Mexico\n",
    "USD, MXN = hd.BSCTensor.random(2, d)  # Create two new concepts: USD and MXN"
   ],
   "metadata": {
    "collapsed": false,
    "ExecuteTime": {
     "end_time": "2025-05-23T18:14:05.451968Z",
     "start_time": "2025-05-23T18:14:05.449477Z"
    }
   },
   "id": "9dd8b599aaf98b3d",
   "execution_count": 179
  },
  {
   "cell_type": "code",
   "outputs": [],
   "source": [
    "usa_memory = hd.bundle(hd.bind(USA, country), hd.bind(USD, currency))  # Write two information into usa_memory: the country is USA and the currency is USD\n",
    "mexico_memory = hd.bundle(hd.bind(Mexico, country), hd.bind(MXN, currency))  # Write two information into mexico_memory: the country is Mexico and the currency is MXN"
   ],
   "metadata": {
    "collapsed": false,
    "ExecuteTime": {
     "end_time": "2025-05-23T18:14:05.455522Z",
     "start_time": "2025-05-23T18:14:05.452623Z"
    }
   },
   "id": "61da7fa2e1cfbc96",
   "execution_count": 180
  },
  {
   "cell_type": "code",
   "outputs": [
    {
     "data": {
      "text/plain": "BSCTensor(0.2558)"
     },
     "execution_count": 181,
     "metadata": {},
     "output_type": "execute_result"
    }
   ],
   "source": [
    "_currency = hd.bind(usa_memory, hd.inverse(USD))  # \"What is USD in USA?\"  \n",
    "mexican_dollar = hd.bind(mexico_memory, hd.inverse(_currency))  # \"What is (the same thing as USD in USA) in Mexico?\"\n",
    "\n",
    "hd.cosine_similarity(mexican_dollar, MXN)"
   ],
   "metadata": {
    "collapsed": false,
    "ExecuteTime": {
     "end_time": "2025-05-23T18:14:05.461140Z",
     "start_time": "2025-05-23T18:14:05.456235Z"
    }
   },
   "id": "962b311680acbdc2",
   "execution_count": 181
  }
 ],
 "metadata": {
  "kernelspec": {
   "display_name": "Python 3",
   "language": "python",
   "name": "python3"
  },
  "language_info": {
   "codemirror_mode": {
    "name": "ipython",
    "version": 2
   },
   "file_extension": ".py",
   "mimetype": "text/x-python",
   "name": "python",
   "nbconvert_exporter": "python",
   "pygments_lexer": "ipython2",
   "version": "2.7.6"
  }
 },
 "nbformat": 4,
 "nbformat_minor": 5
}
