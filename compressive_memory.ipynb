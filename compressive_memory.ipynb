{
 "cells": [
  {
   "cell_type": "markdown",
   "source": [
    "# Hyperdimension"
   ],
   "metadata": {
    "collapsed": false
   },
   "id": "ab325a86b6a71591"
  },
  {
   "cell_type": "code",
   "execution_count": 612,
   "id": "initial_id",
   "metadata": {
    "collapsed": true,
    "ExecuteTime": {
     "end_time": "2025-05-26T23:31:45.395662Z",
     "start_time": "2025-05-26T23:31:45.394182Z"
    }
   },
   "outputs": [],
   "source": [
    "import torchhd as hd\n",
    "import torch"
   ]
  },
  {
   "cell_type": "code",
   "outputs": [],
   "source": [
    "d = 10_000"
   ],
   "metadata": {
    "collapsed": false,
    "ExecuteTime": {
     "end_time": "2025-05-26T23:31:45.397477Z",
     "start_time": "2025-05-26T23:31:45.396191Z"
    }
   },
   "id": "459fe9651aa41842",
   "execution_count": 613
  },
  {
   "cell_type": "code",
   "outputs": [],
   "source": [
    "person = {\n",
    "    'name': 'Bedi',\n",
    "    'sex': 'Male',\n",
    "    'date of birth': '24th december',\n",
    "}"
   ],
   "metadata": {
    "collapsed": false,
    "ExecuteTime": {
     "end_time": "2025-05-26T23:31:45.399642Z",
     "start_time": "2025-05-26T23:31:45.398150Z"
    }
   },
   "id": "cdcf99efb8add2cb",
   "execution_count": 614
  },
  {
   "cell_type": "code",
   "outputs": [],
   "source": [
    "vocab = {}\n",
    "\n",
    "for key, value in person.items():\n",
    "    vocab[key] = hd.random(1, d)\n",
    "    vocab[value] = hd.random(1, d)"
   ],
   "metadata": {
    "collapsed": false,
    "ExecuteTime": {
     "end_time": "2025-05-26T23:31:45.402376Z",
     "start_time": "2025-05-26T23:31:45.400176Z"
    }
   },
   "id": "47cc3d7ed503a130",
   "execution_count": 615
  },
  {
   "cell_type": "code",
   "outputs": [
    {
     "data": {
      "text/plain": "{'name': MAPTensor([[ 1.,  1., -1.,  ...,  1., -1., -1.]]),\n 'Bedi': MAPTensor([[ 1., -1., -1.,  ..., -1.,  1.,  1.]]),\n 'sex': MAPTensor([[-1.,  1.,  1.,  ..., -1., -1., -1.]]),\n 'Male': MAPTensor([[-1., -1., -1.,  ...,  1.,  1., -1.]]),\n 'date of birth': MAPTensor([[ 1.,  1., -1.,  ...,  1., -1.,  1.]]),\n '24th december': MAPTensor([[-1., -1.,  1.,  ..., -1., -1.,  1.]])}"
     },
     "execution_count": 616,
     "metadata": {},
     "output_type": "execute_result"
    }
   ],
   "source": [
    "vocab"
   ],
   "metadata": {
    "collapsed": false,
    "ExecuteTime": {
     "end_time": "2025-05-26T23:31:45.405605Z",
     "start_time": "2025-05-26T23:31:45.402915Z"
    }
   },
   "id": "80f7dd99560350a",
   "execution_count": 616
  },
  {
   "cell_type": "code",
   "outputs": [],
   "source": [
    "memory = hd.multibundle(torch.concat([\n",
    "    hd.bind(vocab['name'], vocab['Bedi']),\n",
    "    hd.bind(vocab['sex'], vocab['Male']),\n",
    "    hd.bind(vocab['date of birth'], vocab['24th december'])\n",
    "]))"
   ],
   "metadata": {
    "collapsed": false,
    "ExecuteTime": {
     "end_time": "2025-05-26T23:33:03.555534Z",
     "start_time": "2025-05-26T23:33:03.548815Z"
    }
   },
   "id": "6231be7e35386155",
   "execution_count": 631
  },
  {
   "cell_type": "code",
   "outputs": [
    {
     "data": {
      "text/plain": "MAPTensor([[0.5783]])"
     },
     "execution_count": 632,
     "metadata": {},
     "output_type": "execute_result"
    }
   ],
   "source": [
    "retrieved_name = hd.bind(memory, hd.inverse(vocab['name']))\n",
    "hd.cosine_similarity(retrieved_name, vocab['Bedi'])"
   ],
   "metadata": {
    "collapsed": false,
    "ExecuteTime": {
     "end_time": "2025-05-26T23:33:05.662826Z",
     "start_time": "2025-05-26T23:33:05.655324Z"
    }
   },
   "id": "1137fcb540a122d6",
   "execution_count": 632
  },
  {
   "cell_type": "markdown",
   "source": [
    "# Infini-attention"
   ],
   "metadata": {
    "collapsed": false
   },
   "id": "dc69eadc84819f2e"
  },
  {
   "cell_type": "code",
   "outputs": [],
   "source": [
    "import torch\n",
    "import torch.nn.functional as F"
   ],
   "metadata": {
    "collapsed": false,
    "ExecuteTime": {
     "end_time": "2025-05-26T23:31:45.413099Z",
     "start_time": "2025-05-26T23:31:45.411790Z"
    }
   },
   "id": "867c3da94cb19c6a",
   "execution_count": 619
  },
  {
   "cell_type": "code",
   "outputs": [],
   "source": [
    "dkey = 64\n",
    "dvalue = 64\n",
    "N = 10\n",
    "\n",
    "def sigma(x):\n",
    "    # sigma(x) = ELU(x) + 1\n",
    "    return F.elu(x) + 1\n",
    "\n",
    "Ms_prev = torch.randn(dkey, dvalue) * 0.01\n",
    "zs_prev = torch.randn(dkey) * 0.01"
   ],
   "metadata": {
    "collapsed": false,
    "ExecuteTime": {
     "end_time": "2025-05-26T23:31:45.415525Z",
     "start_time": "2025-05-26T23:31:45.413649Z"
    }
   },
   "id": "6d8bf9ae8159a17c",
   "execution_count": 620
  },
  {
   "cell_type": "code",
   "outputs": [],
   "source": [
    "Q = torch.randn(N, dkey)\n",
    "K = torch.randn(N, dkey)\n",
    "V = torch.randn(N, dvalue)"
   ],
   "metadata": {
    "collapsed": false,
    "ExecuteTime": {
     "end_time": "2025-05-26T23:31:45.417641Z",
     "start_time": "2025-05-26T23:31:45.415932Z"
    }
   },
   "id": "a28a11f77cb4e619",
   "execution_count": 621
  },
  {
   "cell_type": "code",
   "outputs": [],
   "source": [
    "def read(Ms, zs, Q):\n",
    "    sigma_Q = sigma(Q)\n",
    "    \n",
    "    numerator = sigma_Q @ Ms\n",
    "    denominator = sigma_Q @ zs\n",
    "    denominator = denominator.unsqueeze(-1) + 1e-5\n",
    "    \n",
    "    return numerator / denominator\n",
    "\n",
    "\n",
    "def save(Ms, zs, K, V):\n",
    "    sigma_K = sigma(K)\n",
    "    \n",
    "    delta_Ms = sigma_K.transpose(-2, -1) @ V\n",
    "    Ms_new = Ms + delta_Ms\n",
    "    \n",
    "    delta_zs = torch.sum(sigma_K, dim=0)\n",
    "    zs_new = zs + delta_zs\n",
    "    \n",
    "    return Ms_new, zs_new"
   ],
   "metadata": {
    "collapsed": false,
    "ExecuteTime": {
     "end_time": "2025-05-26T23:31:45.419952Z",
     "start_time": "2025-05-26T23:31:45.418022Z"
    }
   },
   "id": "ed1f29a30c4592ce",
   "execution_count": 622
  },
  {
   "cell_type": "code",
   "outputs": [],
   "source": [
    "MS_prev, zs_prev = save(Ms_prev, zs_prev, K, V)"
   ],
   "metadata": {
    "collapsed": false,
    "ExecuteTime": {
     "end_time": "2025-05-26T23:31:45.421804Z",
     "start_time": "2025-05-26T23:31:45.420397Z"
    }
   },
   "id": "2382ef43dd42469d",
   "execution_count": 623
  },
  {
   "cell_type": "code",
   "outputs": [
    {
     "name": "stdout",
     "output_type": "stream",
     "text": [
      "tensor([ 2.1462e-04,  5.8591e-05,  1.3485e-04, -7.8125e-05, -9.7636e-05])\n"
     ]
    }
   ],
   "source": [
    "Amem = read(Ms_prev, zs_prev, Q)\n",
    "print(Amem[0, :5])"
   ],
   "metadata": {
    "collapsed": false,
    "ExecuteTime": {
     "end_time": "2025-05-26T23:31:45.426561Z",
     "start_time": "2025-05-26T23:31:45.424512Z"
    }
   },
   "id": "382cb8a6f6c98b5c",
   "execution_count": 624
  },
  {
   "cell_type": "code",
   "outputs": [],
   "source": [
    "for _ in range(100_000):\n",
    "    new_K = torch.randn(N, dkey)\n",
    "    new_V = torch.randn(N, dvalue)\n",
    "    MS_prev, zs_prev = save(Ms_prev, zs_prev, new_K, new_V)"
   ],
   "metadata": {
    "collapsed": false,
    "ExecuteTime": {
     "end_time": "2025-05-26T23:31:48.148235Z",
     "start_time": "2025-05-26T23:31:45.427109Z"
    }
   },
   "id": "2371cc2a2ed0623d",
   "execution_count": 625
  },
  {
   "cell_type": "code",
   "outputs": [
    {
     "name": "stdout",
     "output_type": "stream",
     "text": [
      "tensor([ 2.1462e-04,  5.8591e-05,  1.3485e-04, -7.8125e-05, -9.7636e-05])\n"
     ]
    }
   ],
   "source": [
    "Amem_new = read(Ms_prev, zs_prev, Q)\n",
    "print(Amem[0, :5])"
   ],
   "metadata": {
    "collapsed": false,
    "ExecuteTime": {
     "end_time": "2025-05-26T23:31:48.151323Z",
     "start_time": "2025-05-26T23:31:48.148809Z"
    }
   },
   "id": "3c6540820547f1d7",
   "execution_count": 626
  },
  {
   "cell_type": "code",
   "outputs": [
    {
     "data": {
      "text/plain": "tensor([1.0000, 1.0000, 1.0000, 1.0000, 1.0000, 1.0000, 1.0000, 1.0000, 1.0000,\n        1.0000])"
     },
     "execution_count": 627,
     "metadata": {},
     "output_type": "execute_result"
    }
   ],
   "source": [
    "F.cosine_similarity(Amem, Amem_new)"
   ],
   "metadata": {
    "collapsed": false,
    "ExecuteTime": {
     "end_time": "2025-05-26T23:31:48.154407Z",
     "start_time": "2025-05-26T23:31:48.151808Z"
    }
   },
   "id": "d56642139464fecb",
   "execution_count": 627
  }
 ],
 "metadata": {
  "kernelspec": {
   "display_name": "Python 3",
   "language": "python",
   "name": "python3"
  },
  "language_info": {
   "codemirror_mode": {
    "name": "ipython",
    "version": 2
   },
   "file_extension": ".py",
   "mimetype": "text/x-python",
   "name": "python",
   "nbconvert_exporter": "python",
   "pygments_lexer": "ipython2",
   "version": "2.7.6"
  }
 },
 "nbformat": 4,
 "nbformat_minor": 5
}
