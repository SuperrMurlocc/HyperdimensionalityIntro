{
 "cells": [
  {
   "cell_type": "code",
   "execution_count": 175,
   "id": "initial_id",
   "metadata": {
    "collapsed": true,
    "ExecuteTime": {
     "end_time": "2025-05-23T20:23:37.370192Z",
     "start_time": "2025-05-23T20:23:37.367404Z"
    }
   },
   "outputs": [],
   "source": [
    "from hmmlearn import hmm"
   ]
  },
  {
   "cell_type": "code",
   "outputs": [],
   "source": [
    "# I create two cities, each has two states: it shines and it rains and two observations: tom ate ice cream, tom did not eat ice cream \n",
    "\n",
    "sunny_city = hmm.CategoricalHMM(n_components=2, n_features=2)  \n",
    "rainy_city = hmm.CategoricalHMM(n_components=2, n_features=2)\n",
    "\n",
    "sunny_city.transmat_ = [\n",
    "    [0.9, 0.1],  # If it shines, there is 0.9 probability that it will continue shining\n",
    "    [0.8, 0.2]   # If it rains, there is 0.8 probability that it will stop raining and start shining\n",
    "]\n",
    "\n",
    "rainy_city.transmat_ = [\n",
    "    [0.3, 0.7],  # If it shines, there is 0.7 probability that it will stop shining and start raining\n",
    "    [0.2, 0.8]   # If it rains, there is 0.8 probability that it will continue raining\n",
    "]\n",
    "\n",
    "# Tom likes to eat ice cream when it shines.\n",
    "sunny_city.emissionprob_ = rainy_city.emissionprob_ = [\n",
    "    [0.1, 0.9],\n",
    "    [0.9, 0.1],\n",
    "]\n",
    "\n",
    "# Each city will start with a lovely weather\n",
    "sunny_city.startprob_ = rainy_city.startprob_ = [1.0, 0.0]"
   ],
   "metadata": {
    "collapsed": false,
    "ExecuteTime": {
     "end_time": "2025-05-23T20:23:37.380739Z",
     "start_time": "2025-05-23T20:23:37.377760Z"
    }
   },
   "id": "d5faca8d181b8621",
   "execution_count": 176
  },
  {
   "cell_type": "code",
   "outputs": [
    {
     "data": {
      "text/plain": "167"
     },
     "execution_count": 177,
     "metadata": {},
     "output_type": "execute_result"
    }
   ],
   "source": [
    "ice_cream_eaten, _ = sunny_city.sample(n_samples=200)\n",
    "ice_cream_eaten.sum()"
   ],
   "metadata": {
    "collapsed": false,
    "ExecuteTime": {
     "end_time": "2025-05-23T20:23:37.386916Z",
     "start_time": "2025-05-23T20:23:37.382007Z"
    }
   },
   "id": "185c1dc96be5cff6",
   "execution_count": 177
  },
  {
   "cell_type": "code",
   "outputs": [
    {
     "data": {
      "text/plain": "61"
     },
     "execution_count": 178,
     "metadata": {},
     "output_type": "execute_result"
    }
   ],
   "source": [
    "ice_cream_eaten, _ = rainy_city.sample(n_samples=200)\n",
    "ice_cream_eaten.sum()"
   ],
   "metadata": {
    "collapsed": false,
    "ExecuteTime": {
     "end_time": "2025-05-23T20:23:37.392059Z",
     "start_time": "2025-05-23T20:23:37.387686Z"
    }
   },
   "id": "89bfec8f5b092f1",
   "execution_count": 178
  },
  {
   "cell_type": "code",
   "outputs": [],
   "source": [
    "weeks_train = {\n",
    "    'sunny': [sunny_city.sample(n_samples=7)[0] for _ in range(200)],\n",
    "    'rainy': [rainy_city.sample(n_samples=7)[0] for _ in range(200)]\n",
    "}\n",
    "\n",
    "weeks_test = {\n",
    "    'sunny': [sunny_city.sample(n_samples=7)[0] for _ in range(20)],\n",
    "    'rainy': [rainy_city.sample(n_samples=7)[0] for _ in range(20)]\n",
    "}"
   ],
   "metadata": {
    "collapsed": false,
    "ExecuteTime": {
     "end_time": "2025-05-23T20:23:37.441523Z",
     "start_time": "2025-05-23T20:23:37.393342Z"
    }
   },
   "id": "1cfaf50fb3494ffc",
   "execution_count": 179
  },
  {
   "cell_type": "code",
   "outputs": [],
   "source": [
    "import torchhd as hd\n",
    "from functools import reduce\n",
    "d = 10_000\n",
    "\n",
    "\n",
    "observations = hd.random(2, d)"
   ],
   "metadata": {
    "collapsed": false,
    "ExecuteTime": {
     "end_time": "2025-05-23T20:23:37.443988Z",
     "start_time": "2025-05-23T20:23:37.442067Z"
    }
   },
   "id": "ef64beec6900c95a",
   "execution_count": 180
  },
  {
   "cell_type": "code",
   "outputs": [],
   "source": [
    "def encode_sequence(sequence_of_observations):\n",
    "    sequence = reduce(lambda sequence, new_observation: hd.bundle(hd.permute(sequence), observations[new_observation]), sequence_of_observations)\n",
    "    return sequence        \n",
    "\n",
    "sunny_sequences_encoded = [encode_sequence(sequence) for sequence in weeks_train['sunny']]\n",
    "sunny_sequence_model = reduce(lambda sequence_1, sequence_2: hd.bundle(sequence_1, sequence_2), sunny_sequences_encoded)\n",
    "\n",
    "rainy_sequences_encoded = [encode_sequence(sequence) for sequence in weeks_train['rainy']]\n",
    "rainy_sequence_model = reduce(lambda sequence_1, sequence_2: hd.bundle(sequence_1, sequence_2), rainy_sequences_encoded)"
   ],
   "metadata": {
    "collapsed": false,
    "ExecuteTime": {
     "end_time": "2025-05-23T20:23:37.520293Z",
     "start_time": "2025-05-23T20:23:37.444708Z"
    }
   },
   "id": "d383f80a8d27c4ea",
   "execution_count": 181
  },
  {
   "cell_type": "code",
   "outputs": [],
   "source": [
    "true_label = []\n",
    "predicted_label = []\n",
    "\n",
    "for label, sequences in weeks_train.items():\n",
    "    sequences_encoded = [encode_sequence(sequence) for sequence in sequences]\n",
    "    \n",
    "    for sequence_encoded in sequences_encoded:\n",
    "        if hd.cosine_similarity(sequence_encoded, sunny_sequence_model) > hd.cosine_similarity(sequence_encoded, rainy_sequence_model):\n",
    "            predicted_label.append('sunny')\n",
    "        else:\n",
    "            predicted_label.append('rainy')\n",
    "            \n",
    "        true_label.append(label)"
   ],
   "metadata": {
    "collapsed": false,
    "ExecuteTime": {
     "end_time": "2025-05-23T20:23:37.663755Z",
     "start_time": "2025-05-23T20:23:37.521068Z"
    }
   },
   "id": "2516610ebd5039cc",
   "execution_count": 182
  },
  {
   "cell_type": "code",
   "outputs": [
    {
     "data": {
      "text/plain": "<sklearn.metrics._plot.confusion_matrix.ConfusionMatrixDisplay at 0x31c18d890>"
     },
     "execution_count": 183,
     "metadata": {},
     "output_type": "execute_result"
    },
    {
     "data": {
      "text/plain": "<Figure size 640x480 with 2 Axes>",
      "image/png": "[encoded data removed]"
     },
     "metadata": {},
     "output_type": "display_data"
    }
   ],
   "source": [
    "from sklearn.metrics import ConfusionMatrixDisplay\n",
    "ConfusionMatrixDisplay.from_predictions(true_label, predicted_label)"
   ],
   "metadata": {
    "collapsed": false,
    "ExecuteTime": {
     "end_time": "2025-05-23T20:23:37.720714Z",
     "start_time": "2025-05-23T20:23:37.664568Z"
    }
   },
   "id": "36de380080b342b5",
   "execution_count": 183
  }
 ],
 "metadata": {
  "kernelspec": {
   "display_name": "Python 3",
   "language": "python",
   "name": "python3"
  },
  "language_info": {
   "codemirror_mode": {
    "name": "ipython",
    "version": 2
   },
   "file_extension": ".py",
   "mimetype": "text/x-python",
   "name": "python",
   "nbconvert_exporter": "python",
   "pygments_lexer": "ipython2",
   "version": "2.7.6"
  }
 },
 "nbformat": 4,
 "nbformat_minor": 5
}
